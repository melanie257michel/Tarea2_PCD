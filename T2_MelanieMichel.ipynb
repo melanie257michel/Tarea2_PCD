{
 "cells": [
  {
   "metadata": {},
   "cell_type": "markdown",
   "source": [
    "# MLOps\n",
    "\n",
    "### ¿Qué es MLOps? \n",
    "\n",
    "Representan la abreviatura Machine Learning Operations y se enfoca en optimizar los modelos de Machine Learning durante su producción para posteriormente poderlos mantener, su ejecución usualmente la llevan cientificos de datos, ingenieros y desarrolladores en colaborativo. "
   ],
   "id": "c00c3748294cd01d"
  },
  {
   "metadata": {},
   "cell_type": "markdown",
   "source": [
    "### ¿Para qué se usan? \n",
    "\n",
    "Su enfoque es útil para la solución de problemas de Machine Learning e IA, al usarlos el equipo de desarrollo puede colaborar y mejorar el ritmo de desarrollo y producción de modelos para hacer el monitoreo continuo adecuado para los modelos usados. \n",
    "\n",
    "### ¿Por qué se necesitan los MLOps? \n",
    "\n",
    "Los MLOps optimizan los modelos donde se usan, por lo que ayudan a mantener estable dicho modelo ayudando así a la complejidad, preparación y el mantenimiento del modelo. \n",
    "\n",
    "### Beneficios de usar MLOps\n",
    "\n",
    "- Eficiencia: se logra un desarrollo más rápido, mejor calidad y producción. \n",
    "- Escalabilidad: permiten una vasta escalabilidad, donde se puede gestionar varios modelos, proporcionando una muy buena reproductibilidad. \n",
    "- Reducción de riesgos: permiten una mayor transparencia y respuesta más rápida a las solicitudes de regularización. \n",
    "\n",
    "### Componentes de MLOps\n",
    "\n",
    "Se puede hacer tan enfocado o expandido como se requiera, puede ir desde el pipelines del modelo, hasta la producción del modelo o en el despliegue del modelo, estos son algunas de las principales áreas donde se aplican: \n",
    "\n",
    "- Análisis exploratorio de datos (EDA)\n",
    "- Preparación de datos e ingeniería de características\n",
    "- Entrenamiento y ajuste del modelo\n",
    "- Revisión y gobernanza del modelo\n",
    "- Inferencia y servicio del modelo\n",
    "- Monitoreo del modelo\n",
    "- Reentrenamiento automático del modelo"
   ],
   "id": "cb9b6934fbbaaac"
  },
  {
   "metadata": {},
   "cell_type": "code",
   "outputs": [],
   "execution_count": null,
   "source": "",
   "id": "f8a46ae23e29670f"
  }
 ],
 "metadata": {
  "kernelspec": {
   "display_name": "Python 3",
   "language": "python",
   "name": "python3"
  },
  "language_info": {
   "codemirror_mode": {
    "name": "ipython",
    "version": 2
   },
   "file_extension": ".py",
   "mimetype": "text/x-python",
   "name": "python",
   "nbconvert_exporter": "python",
   "pygments_lexer": "ipython2",
   "version": "2.7.6"
  }
 },
 "nbformat": 4,
 "nbformat_minor": 5
}
